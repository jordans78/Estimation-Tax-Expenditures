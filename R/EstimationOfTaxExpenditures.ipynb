{
 "cells": [
  {
   "cell_type": "markdown",
   "id": "386c44a6",
   "metadata": {},
   "source": [
    "# ESTIMATION OF TAX EXPENDITURES"
   ]
  },
  {
   "cell_type": "markdown",
   "id": "f6f0f2b5",
   "metadata": {},
   "source": [
    "In general, the purpose of tax expenditures is to support certain economic sectors and activities, certain social\n",
    "groups, etc., and it is important to note that there is no unified definition of tax expenditures in the literature.\n",
    "According to the World Bank, an example of tax expenditures, in a broader context, are tax provisions that\n",
    "deviate from a normative or a specific tax system and may take a number of forms: exemptions, allowances,\n",
    "deductions, rebates, credits, preferential tax rates or tax deferrals (WB 2006). According to the Organisation\n",
    "for Economic Cooperation and Development (OECD), a tax expenditure is a transfer of public resources\n",
    "that is achieved by reducing tax obligations with respect to a benchmark tax (i.e., the standard tax system),\n",
    "rather than by a direct expenditure. Due to the fact that there is no single definition of tax expenditure that\n",
    "is applied everywhere, most countries use the definition of tax expenditure of the OECD. Tax expenditures\n",
    "may occur in various forms (e.g. exemption, relief, deductions, credit, etc.), which can be delivered through several types\n",
    "of direct and indirect taxes. Their provision is usually based on a specific goal that should be achieved, and\n",
    "those benefiting can be natural persons and legal entities.\n",
    "\n",
    "In order to estimate tax expenditure it is crucial to have a robust micro-simulation model which can have the possibility to estimate tax expenditures through different groups of taxpayers."
   ]
  },
  {
   "cell_type": "code",
   "execution_count": null,
   "id": "d2e24298",
   "metadata": {},
   "outputs": [],
   "source": [
    "options(warn=-1)\n",
    "library(tidyverse)\n",
    "library(ggQC)\n",
    "library(data.table)\n",
    "options(scipen = 999) \n"
   ]
  },
  {
   "cell_type": "markdown",
   "id": "808cb603",
   "metadata": {},
   "source": [
    "# 1. Creating synthetic data for simulation"
   ]
  },
  {
   "cell_type": "code",
   "execution_count": null,
   "id": "d52bda69",
   "metadata": {},
   "outputs": [],
   "source": [
    "# Creating articial data for simulation      \n",
    "SOURCE_DATA_WAGES<-data.frame(stringsAsFactors = FALSE, # Prevent to factors\n",
    "                                              m = as.integer(runif(10000, 1, 13)),\n",
    "                                              id = as.integer(runif(10000, 1, 1000000)),\n",
    "                           nace = sample(x=c(\"01\",\"02\",\"03\",\"B\",\"10-12\",\"13-15\",\"16\",\"17\",\"18\",\"19\",\"20\",\"21\",   \n",
    "                                                       \"22\",\"23\",\"24\",\"25\",\"26\",\"27\",\"28\",\"29\",\"30\",\"31-32\",\"33\",\"35\",\"F\",\"45\",\"46\",\"47\",\n",
    "                                                       \"49\",\"50\",\"52\",\"53\",\"I\",\"58\",\"59-60\",\"61\",\"62-63\",\"64\",\"66\",\"68B\",\"69-70\",\"71\",\"73\",\n",
    "                                                        \"74-75\",\"77\",\"79\",\"80-82\",\"85\",\"86\",\"87-88\",\"90-92\",\"93\",\"94\",\"95\",\"96\",\"T\",\"36\",\"65\",\"51\"),\n",
    "                                            prob = c(0.0169,0.0169,0.0169,0.0169,0.0169,0.0169,0.0169,\t\n",
    "                                                        0.0169,0.0169,0.0169,0.0169,0.0169,0.0169,0.0169,\n",
    "                                                        0.0169,0.0169,0.066,0.0169,0.0169,0.0169,0.0169,\n",
    "                                                        0.0169,0.0169,0.0169,0.0169,0.0332,0.0169,0.0169,\n",
    "                                                        0.0169,0.0169,0.0169,0.0169,0.0169,0.0169,0.0169,\n",
    "                                                        0.0169,0.0169,0.0169,0.0169,0.0169,0.0169,0.0169,\n",
    "                                                        0.0169,0.0169,0.0169,0.0169,0.0169,0.015,0.0158,\n",
    "                                                        0.0169,0.0169,0.0169,0.0169,0.0169,0.012,0.01,0.001,0.001,0.001),size=10000,replace=TRUE),\n",
    "                             yearofbirth = as.integer(runif(10000, 1957, 2003)),\n",
    "                             typeofincome = sample(x=c(\"1\",\"2\",\"3\"), prob = c(.4, .4,.2),size=10000,replace=TRUE),\n",
    "                             sex = sample(x=c(\"M\",\"F\"), prob = c(.6, .4),size=10000,replace=TRUE),\n",
    "                             gross_i = abs(rnorm(runif(10000, 18000, 10000000), mean = 350000, sd = 700000)),\n",
    "                            personal_allowance = as.double(sample(x=c(0,8000), prob = c(.1, .9),size=10000,replace=TRUE)))%>%\n",
    "#dplyr::mutate(ssc = gross_i*0.275,pit = (gross_i-(ssc+personal_allowance))*0.10)\n",
    "dplyr::mutate(ssc = gross_i*0.275,pit = as.integer((gross_i-(ssc+personal_allowance))*0.10))\n",
    "# Introduce Tax expenditures in data\n",
    "SOURCE_DATA_WAGES$pit[sample(nrow(SOURCE_DATA_WAGES),3000)] <- 0\n",
    "SOURCE_DATA_WAGES$ssc[sample(nrow(SOURCE_DATA_WAGES),3000)] <- 0\n",
    "SOURCE_DATA_WAGES<-SOURCE_DATA_WAGES%>%\n",
    "dplyr::mutate( net_i = gross_i-(ssc+pit))%>%\n",
    "data.table()"
   ]
  },
  {
   "cell_type": "code",
   "execution_count": null,
   "id": "ce80fc34",
   "metadata": {},
   "outputs": [],
   "source": [
    "nrow(SOURCE_DATA_WAGES)"
   ]
  },
  {
   "cell_type": "markdown",
   "id": "cfa3ae61",
   "metadata": {},
   "source": [
    "# 2. Defining a simple function for detecting tax expenditures"
   ]
  },
  {
   "cell_type": "markdown",
   "id": "17499458",
   "metadata": {},
   "source": [
    "This function is a simpler example of detecting ТЕ’s. Here, in order for ТЕ’s to be detected, the taxpayer needs to be in category 2 and category 3, as well as to have a tax amount of 0."
   ]
  },
  {
   "cell_type": "code",
   "execution_count": null,
   "id": "abd5e004",
   "metadata": {},
   "outputs": [],
   "source": [
    "detectig_TE <- function(typeofincome,pit){\n",
    "                  taxexpenditures=ifelse(typeofincome %in% c(\"2\",\"3\"), ifelse(pit==\"0\", \"Yes\", \"No\"),\"No\")\n",
    "                  return(as.character(taxexpenditures))\n",
    "                }"
   ]
  },
  {
   "cell_type": "code",
   "execution_count": null,
   "id": "c8263e6c",
   "metadata": {},
   "outputs": [],
   "source": [
    "Estimated_TE<-mutate(SOURCE_DATA_WAGES,\n",
    "                    TE=detectig_TE(typeofincome,pit)\n",
    "                    )"
   ]
  },
  {
   "cell_type": "code",
   "execution_count": null,
   "id": "48d241c8",
   "metadata": {},
   "outputs": [],
   "source": [
    "head(Estimated_TE)"
   ]
  },
  {
   "cell_type": "markdown",
   "id": "f416b3dc",
   "metadata": {},
   "source": [
    "# 3.Estimation of TE's"
   ]
  },
  {
   "cell_type": "code",
   "execution_count": null,
   "id": "e5f7bfc0",
   "metadata": {},
   "outputs": [],
   "source": [
    "TE_TABLE_GROUP<-Estimated_TE%>%\n",
    "dplyr::filter(TE==\"Yes\")%>%\n",
    "dplyr::mutate(estimated_te = as.integer((gross_i-(ssc+personal_allowance))*0.10))%>%\n",
    "dplyr::select(nace,estimated_te)%>%\n",
    "dplyr::group_by(nace)%>%\n",
    "dplyr::summarise(value=sum(estimated_te))%>%\n",
    "dplyr::top_n(10) "
   ]
  },
  {
   "cell_type": "code",
   "execution_count": null,
   "id": "32142cb6",
   "metadata": {},
   "outputs": [],
   "source": [
    "head(TE_TABLE_GROUP)"
   ]
  },
  {
   "cell_type": "code",
   "execution_count": null,
   "id": "3a7a8353",
   "metadata": {},
   "outputs": [],
   "source": [
    "summary(TE_TABLE_GROUP)"
   ]
  },
  {
   "cell_type": "markdown",
   "id": "47cc59ac",
   "metadata": {},
   "source": [
    "# 4. Plotting Pareto plot (TOP-10 TE's)"
   ]
  },
  {
   "cell_type": "code",
   "execution_count": null,
   "id": "e84bd391",
   "metadata": {},
   "outputs": [],
   "source": [
    "ggplot(TE_TABLE_GROUP, aes(x=nace, y=value)) +\n",
    "  stat_pareto(point.color = \"red\",\n",
    "              point.size = 3,\n",
    "              line.color = \"black\",\n",
    "              size.line = 1,\n",
    "              bars.fill = c(\"blue\", \"orange\")\n",
    "  )+\n",
    "  xlab('NACE chapters') +\n",
    "  ylab('Millions')"
   ]
  },
  {
   "cell_type": "code",
   "execution_count": null,
   "id": "69f6659c",
   "metadata": {},
   "outputs": [],
   "source": []
  }
 ],
 "metadata": {
  "kernelspec": {
   "display_name": "R",
   "language": "R",
   "name": "ir"
  },
  "language_info": {
   "codemirror_mode": "r",
   "file_extension": ".r",
   "mimetype": "text/x-r-source",
   "name": "R",
   "pygments_lexer": "r",
   "version": "3.6.1"
  }
 },
 "nbformat": 4,
 "nbformat_minor": 5
}
