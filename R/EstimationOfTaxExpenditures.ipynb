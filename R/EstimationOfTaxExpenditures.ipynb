{
 "cells": [
  {
   "cell_type": "markdown",
   "id": "386c44a6",
   "metadata": {},
   "source": [
    "# ESTIMATION OF TAX EXPENDITURES"
   ]
  },
  {
   "cell_type": "markdown",
   "id": "f6f0f2b5",
   "metadata": {},
   "source": [
    "In general, the purpose of tax expenditures is to support certain economic sectors and activities, certain social\n",
    "groups, etc., and it is important to note that there is no unified definition of tax expenditures in the literature.\n",
    "According to the World Bank, an example of tax expenditures, in a broader context, are tax provisions that\n",
    "deviate from a normative or a specific tax system and may take a number of forms: exemptions, allowances,\n",
    "deductions, rebates, credits, preferential tax rates or tax deferrals (WB 2006). According to the Organisation\n",
    "for Economic Cooperation and Development (OECD), a tax expenditure is a transfer of public resources\n",
    "that is achieved by reducing tax obligations with respect to a benchmark tax (i.e., the standard tax system),\n",
    "rather than by a direct expenditure. Due to the fact that there is no single definition of tax expenditure that\n",
    "is applied everywhere, most countries use the definition of tax expenditure of the OECD. Tax expenditures\n",
    "may occur in various forms (e.g. exemption, relief, deductions, credit, etc.), which can be delivered through several types\n",
    "of direct and indirect taxes. Their provision is usually based on a specific goal that should be achieved, and\n",
    "those benefiting can be natural persons and legal entities.\n",
    "\n",
    "In order to estimate tax expenditure it is crucial to have a robust micro-simulation model which can have the possibility to estimate tax expenditures through different groups of taxpayers."
   ]
  },
  {
   "cell_type": "code",
   "execution_count": 11,
   "id": "d2e24298",
   "metadata": {},
   "outputs": [],
   "source": [
    "options(warn=-1)\n",
    "library(tidyverse)\n",
    "library(ggQC)\n",
    "library(data.table)\n",
    "options(scipen = 999) # switch off scientific notation\n"
   ]
  },
  {
   "cell_type": "markdown",
   "id": "808cb603",
   "metadata": {},
   "source": [
    "# 1. Creating syntetic data for estimation of tax expenditures     "
   ]
  },
  {
   "cell_type": "code",
   "execution_count": 2,
   "id": "d52bda69",
   "metadata": {},
   "outputs": [],
   "source": [
    "# Creating articial data for simulation      \n",
    "SOURCE_DATA_WAGES<-data.frame(stringsAsFactors = FALSE, # Prevent to factors\n",
    "                                              m = as.integer(runif(10000, 1, 13)),\n",
    "                                              id = as.integer(runif(10000, 1, 1000000)),\n",
    "                           nace = sample(x=c(\"01\",\"02\",\"03\",\"B\",\"10-12\",\"13-15\",\"16\",\"17\",\"18\",\"19\",\"20\",\"21\",   \n",
    "                                                       \"22\",\"23\",\"24\",\"25\",\"26\",\"27\",\"28\",\"29\",\"30\",\"31-32\",\"33\",\"35\",\"F\",\"45\",\"46\",\"47\",\n",
    "                                                       \"49\",\"50\",\"52\",\"53\",\"I\",\"58\",\"59-60\",\"61\",\"62-63\",\"64\",\"66\",\"68B\",\"69-70\",\"71\",\"73\",\n",
    "                                                        \"74-75\",\"77\",\"79\",\"80-82\",\"85\",\"86\",\"87-88\",\"90-92\",\"93\",\"94\",\"95\",\"96\",\"T\",\"36\",\"65\",\"51\"),\n",
    "                                            prob = c(0.0169,0.0169,0.0169,0.0169,0.0169,0.0169,0.0169,\t\n",
    "                                                        0.0169,0.0169,0.0169,0.0169,0.0169,0.0169,0.0169,\n",
    "                                                        0.0169,0.0169,0.066,0.0169,0.0169,0.0169,0.0169,\n",
    "                                                        0.0169,0.0169,0.0169,0.0169,0.0332,0.0169,0.0169,\n",
    "                                                        0.0169,0.0169,0.0169,0.0169,0.0169,0.0169,0.0169,\n",
    "                                                        0.0169,0.0169,0.0169,0.0169,0.0169,0.0169,0.0169,\n",
    "                                                        0.0169,0.0169,0.0169,0.0169,0.0169,0.015,0.0158,\n",
    "                                                        0.0169,0.0169,0.0169,0.0169,0.0169,0.012,0.01,0.001,0.001,0.001),size=10000,replace=TRUE),\n",
    "                             yearofbirth = as.integer(runif(10000, 1957, 2003)),\n",
    "                             typeofincome = sample(x=c(\"1\",\"2\",\"3\"), prob = c(.5, .3,.2),size=10000,replace=TRUE),\n",
    "                             sex = sample(x=c(\"M\",\"F\"), prob = c(.6, .4),size=10000,replace=TRUE),\n",
    "                             gross_i = abs(rnorm(runif(10000, 18000, 10000000), mean = 350000, sd = 700000)),\n",
    "                            personal_allowance = as.double(sample(x=c(0,8000), prob = c(.1, .9),size=10000,replace=TRUE)))%>%\n",
    "dplyr::mutate(ssc = gross_i*0.275,pit = (gross_i-(ssc+personal_allowance))*0.10)\n",
    "# Introduce Tax expenditures in data\n",
    "SOURCE_DATA_WAGES$pit[sample(nrow(SOURCE_DATA_WAGES),500)] <- 0\n",
    "SOURCE_DATA_WAGES$ssc[sample(nrow(SOURCE_DATA_WAGES),500)] <- 0\n",
    "SOURCE_DATA_WAGES<-SOURCE_DATA_WAGES%>%\n",
    "dplyr::mutate( net_i = gross_i-(ssc+pit))%>%\n",
    "data.table()"
   ]
  },
  {
   "cell_type": "code",
   "execution_count": 3,
   "id": "ce80fc34",
   "metadata": {},
   "outputs": [
    {
     "name": "stdout",
     "output_type": "stream",
     "text": [
      "Classes 'data.table' and 'data.frame':\t10000 obs. of  11 variables:\n",
      " $ m                 : int  7 8 10 1 6 4 6 8 2 4 ...\n",
      " $ id                : int  605124 152518 551521 580753 686789 375703 208113 965646 910320 439758 ...\n",
      " $ nace              : chr  \"13-15\" \"90-92\" \"45\" \"19\" ...\n",
      " $ yearofbirth       : int  1973 2001 1981 1996 1989 1970 1966 1988 2000 1975 ...\n",
      " $ typeofincome      : chr  \"2\" \"1\" \"2\" \"1\" ...\n",
      " $ sex               : chr  \"F\" \"M\" \"M\" \"M\" ...\n",
      " $ gross_i           : num  1312839 75781 331424 789974 250600 ...\n",
      " $ personal_allowance: num  8000 8000 8000 8000 8000 0 8000 8000 8000 8000 ...\n",
      " $ ssc               : num  0 20840 91141 217243 68915 ...\n",
      " $ pit               : num  94381 4694 23228 56473 17369 ...\n",
      " $ net_i             : num  1218458 50247 217054 516258 164317 ...\n",
      " - attr(*, \".internal.selfref\")=<externalptr> \n"
     ]
    }
   ],
   "source": [
    "str(SOURCE_DATA_WAGES)"
   ]
  },
  {
   "cell_type": "markdown",
   "id": "cfa3ae61",
   "metadata": {},
   "source": [
    "# 2. Defining a simple function for detecting tax expenditures"
   ]
  },
  {
   "cell_type": "code",
   "execution_count": 4,
   "id": "961a09e7",
   "metadata": {},
   "outputs": [],
   "source": [
    "detectig_TE <- function(typeofincome){\n",
    "                  taxexpenditures=if_else(typeofincome %in% c(\"2\",\"3\"),\"Yes\",\"No\")\n",
    "                  return(as.character(taxexpenditures))\n",
    "                }"
   ]
  },
  {
   "cell_type": "code",
   "execution_count": 5,
   "id": "c8263e6c",
   "metadata": {},
   "outputs": [],
   "source": [
    "Estimated_TE<-mutate(SOURCE_DATA_WAGES,\n",
    "                    TE=detectig_TE(typeofincome)\n",
    "                    )"
   ]
  },
  {
   "cell_type": "code",
   "execution_count": 6,
   "id": "48d241c8",
   "metadata": {},
   "outputs": [
    {
     "data": {
      "text/html": [
       "<table>\n",
       "<thead><tr><th scope=col>m</th><th scope=col>id</th><th scope=col>nace</th><th scope=col>yearofbirth</th><th scope=col>typeofincome</th><th scope=col>sex</th><th scope=col>gross_i</th><th scope=col>personal_allowance</th><th scope=col>ssc</th><th scope=col>pit</th><th scope=col>net_i</th><th scope=col>TE</th></tr></thead>\n",
       "<tbody>\n",
       "\t<tr><td> 7        </td><td>605124    </td><td>13-15     </td><td>1973      </td><td>2         </td><td>F         </td><td>1312838.61</td><td>8000      </td><td>     0.00 </td><td>94380.799 </td><td>1218457.81</td><td>Yes       </td></tr>\n",
       "\t<tr><td> 8        </td><td>152518    </td><td>90-92     </td><td>2001      </td><td>1         </td><td>M         </td><td>  75780.81</td><td>8000      </td><td> 20839.72 </td><td> 4694.109 </td><td>  50246.98</td><td>No        </td></tr>\n",
       "\t<tr><td>10        </td><td>551521    </td><td>45        </td><td>1981      </td><td>2         </td><td>M         </td><td> 331423.58</td><td>8000      </td><td> 91141.49 </td><td>23228.210 </td><td> 217053.89</td><td>Yes       </td></tr>\n",
       "\t<tr><td> 1        </td><td>580753    </td><td>19        </td><td>1996      </td><td>1         </td><td>M         </td><td> 789973.75</td><td>8000      </td><td>217242.78 </td><td>56473.097 </td><td> 516257.87</td><td>No        </td></tr>\n",
       "\t<tr><td> 6        </td><td>686789    </td><td>03        </td><td>1989      </td><td>3         </td><td>M         </td><td> 250600.48</td><td>8000      </td><td> 68915.13 </td><td>17368.535 </td><td> 164316.81</td><td>Yes       </td></tr>\n",
       "\t<tr><td> 4        </td><td>375703    </td><td>F         </td><td>1970      </td><td>1         </td><td>M         </td><td> 478238.92</td><td>   0      </td><td>131515.70 </td><td>34672.322 </td><td> 312050.90</td><td>No        </td></tr>\n",
       "</tbody>\n",
       "</table>\n"
      ],
      "text/latex": [
       "\\begin{tabular}{r|llllllllllll}\n",
       " m & id & nace & yearofbirth & typeofincome & sex & gross\\_i & personal\\_allowance & ssc & pit & net\\_i & TE\\\\\n",
       "\\hline\n",
       "\t  7         & 605124     & 13-15      & 1973       & 2          & F          & 1312838.61 & 8000       &      0.00  & 94380.799  & 1218457.81 & Yes       \\\\\n",
       "\t  8         & 152518     & 90-92      & 2001       & 1          & M          &   75780.81 & 8000       &  20839.72  &  4694.109  &   50246.98 & No        \\\\\n",
       "\t 10         & 551521     & 45         & 1981       & 2          & M          &  331423.58 & 8000       &  91141.49  & 23228.210  &  217053.89 & Yes       \\\\\n",
       "\t  1         & 580753     & 19         & 1996       & 1          & M          &  789973.75 & 8000       & 217242.78  & 56473.097  &  516257.87 & No        \\\\\n",
       "\t  6         & 686789     & 03         & 1989       & 3          & M          &  250600.48 & 8000       &  68915.13  & 17368.535  &  164316.81 & Yes       \\\\\n",
       "\t  4         & 375703     & F          & 1970       & 1          & M          &  478238.92 &    0       & 131515.70  & 34672.322  &  312050.90 & No        \\\\\n",
       "\\end{tabular}\n"
      ],
      "text/markdown": [
       "\n",
       "| m | id | nace | yearofbirth | typeofincome | sex | gross_i | personal_allowance | ssc | pit | net_i | TE |\n",
       "|---|---|---|---|---|---|---|---|---|---|---|---|\n",
       "|  7         | 605124     | 13-15      | 1973       | 2          | F          | 1312838.61 | 8000       |      0.00  | 94380.799  | 1218457.81 | Yes        |\n",
       "|  8         | 152518     | 90-92      | 2001       | 1          | M          |   75780.81 | 8000       |  20839.72  |  4694.109  |   50246.98 | No         |\n",
       "| 10         | 551521     | 45         | 1981       | 2          | M          |  331423.58 | 8000       |  91141.49  | 23228.210  |  217053.89 | Yes        |\n",
       "|  1         | 580753     | 19         | 1996       | 1          | M          |  789973.75 | 8000       | 217242.78  | 56473.097  |  516257.87 | No         |\n",
       "|  6         | 686789     | 03         | 1989       | 3          | M          |  250600.48 | 8000       |  68915.13  | 17368.535  |  164316.81 | Yes        |\n",
       "|  4         | 375703     | F          | 1970       | 1          | M          |  478238.92 |    0       | 131515.70  | 34672.322  |  312050.90 | No         |\n",
       "\n"
      ],
      "text/plain": [
       "  m  id     nace  yearofbirth typeofincome sex gross_i    personal_allowance\n",
       "1  7 605124 13-15 1973        2            F   1312838.61 8000              \n",
       "2  8 152518 90-92 2001        1            M     75780.81 8000              \n",
       "3 10 551521 45    1981        2            M    331423.58 8000              \n",
       "4  1 580753 19    1996        1            M    789973.75 8000              \n",
       "5  6 686789 03    1989        3            M    250600.48 8000              \n",
       "6  4 375703 F     1970        1            M    478238.92    0              \n",
       "  ssc       pit       net_i      TE \n",
       "1      0.00 94380.799 1218457.81 Yes\n",
       "2  20839.72  4694.109   50246.98 No \n",
       "3  91141.49 23228.210  217053.89 Yes\n",
       "4 217242.78 56473.097  516257.87 No \n",
       "5  68915.13 17368.535  164316.81 Yes\n",
       "6 131515.70 34672.322  312050.90 No "
      ]
     },
     "metadata": {},
     "output_type": "display_data"
    }
   ],
   "source": [
    "head(Estimated_TE)"
   ]
  },
  {
   "cell_type": "code",
   "execution_count": 7,
   "id": "e5f7bfc0",
   "metadata": {},
   "outputs": [
    {
     "name": "stderr",
     "output_type": "stream",
     "text": [
      "Selecting by value\n"
     ]
    }
   ],
   "source": [
    "TE_TABLE_GROUP<-Estimated_TE%>%\n",
    "dplyr::filter(TE==\"Yes\")%>%\n",
    "dplyr::select(nace,pit)%>%\n",
    "dplyr::group_by(nace)%>%\n",
    "dplyr::summarise(value=sum(pit))%>%\n",
    "dplyr::top_n(10) "
   ]
  },
  {
   "cell_type": "code",
   "execution_count": 8,
   "id": "32142cb6",
   "metadata": {},
   "outputs": [
    {
     "data": {
      "text/html": [
       "<table>\n",
       "<thead><tr><th scope=col>nace</th><th scope=col>value</th></tr></thead>\n",
       "<tbody>\n",
       "\t<tr><td>03      </td><td> 3958682</td></tr>\n",
       "\t<tr><td>19      </td><td> 3975569</td></tr>\n",
       "\t<tr><td>22      </td><td> 4099153</td></tr>\n",
       "\t<tr><td>26      </td><td>14040679</td></tr>\n",
       "\t<tr><td>45      </td><td> 6416841</td></tr>\n",
       "\t<tr><td>49      </td><td> 4521963</td></tr>\n",
       "</tbody>\n",
       "</table>\n"
      ],
      "text/latex": [
       "\\begin{tabular}{r|ll}\n",
       " nace & value\\\\\n",
       "\\hline\n",
       "\t 03       &  3958682\\\\\n",
       "\t 19       &  3975569\\\\\n",
       "\t 22       &  4099153\\\\\n",
       "\t 26       & 14040679\\\\\n",
       "\t 45       &  6416841\\\\\n",
       "\t 49       &  4521963\\\\\n",
       "\\end{tabular}\n"
      ],
      "text/markdown": [
       "\n",
       "| nace | value |\n",
       "|---|---|\n",
       "| 03       |  3958682 |\n",
       "| 19       |  3975569 |\n",
       "| 22       |  4099153 |\n",
       "| 26       | 14040679 |\n",
       "| 45       |  6416841 |\n",
       "| 49       |  4521963 |\n",
       "\n"
      ],
      "text/plain": [
       "  nace value   \n",
       "1 03    3958682\n",
       "2 19    3975569\n",
       "3 22    4099153\n",
       "4 26   14040679\n",
       "5 45    6416841\n",
       "6 49    4521963"
      ]
     },
     "metadata": {},
     "output_type": "display_data"
    }
   ],
   "source": [
    "head(TE_TABLE_GROUP)"
   ]
  },
  {
   "cell_type": "code",
   "execution_count": 9,
   "id": "3a7a8353",
   "metadata": {},
   "outputs": [
    {
     "data": {
      "text/plain": [
       "     nace               value         \n",
       " Length:10          Min.   : 3958682  \n",
       " Class :character   1st Qu.: 4032890  \n",
       " Mode  :character   Median : 4402893  \n",
       "                    Mean   : 5448330  \n",
       "                    3rd Qu.: 4620861  \n",
       "                    Max.   :14040679  "
      ]
     },
     "metadata": {},
     "output_type": "display_data"
    }
   ],
   "source": [
    "summary(TE_TABLE_GROUP)"
   ]
  },
  {
   "cell_type": "markdown",
   "id": "47cc59ac",
   "metadata": {},
   "source": [
    "# 3. Plotting Pareto plot (TOP-10 TE's)"
   ]
  },
  {
   "cell_type": "code",
   "execution_count": 10,
   "id": "e84bd391",
   "metadata": {},
   "outputs": [
    {
     "data": {
      "image/png": "[encoded data removed]",
      "text/plain": [
       "plot without title"
      ]
     },
     "metadata": {},
     "output_type": "display_data"
    }
   ],
   "source": [
    "ggplot(TE_TABLE_GROUP, aes(x=nace, y=value)) +\n",
    "  stat_pareto(point.color = \"red\",\n",
    "              point.size = 3,\n",
    "              line.color = \"black\",\n",
    "              size.line = 1,\n",
    "              bars.fill = c(\"blue\", \"orange\")\n",
    "  )+\n",
    "  xlab('NACE chapters') +\n",
    "  ylab('Millions')"
   ]
  },
  {
   "cell_type": "code",
   "execution_count": null,
   "id": "69f6659c",
   "metadata": {},
   "outputs": [],
   "source": []
  }
 ],
 "metadata": {
  "kernelspec": {
   "display_name": "R",
   "language": "R",
   "name": "ir"
  },
  "language_info": {
   "codemirror_mode": "r",
   "file_extension": ".r",
   "mimetype": "text/x-r-source",
   "name": "R",
   "pygments_lexer": "r",
   "version": "3.6.1"
  }
 },
 "nbformat": 4,
 "nbformat_minor": 5
}
